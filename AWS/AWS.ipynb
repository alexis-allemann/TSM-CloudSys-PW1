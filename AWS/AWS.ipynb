{
 "cells": [
  {
   "cell_type": "markdown",
   "id": "d1c35a1c",
   "metadata": {},
   "source": [
    "# AWS deployments"
   ]
  },
  {
   "cell_type": "code",
   "execution_count": 6,
   "id": "00b14572",
   "metadata": {},
   "outputs": [],
   "source": [
    "import boto3\n",
    "ec2 = boto3.resource('ec2')\n",
    "instance = ec2.Instance('i-08a231d2906976d3b')\n",
    "instance.start()\n",
    "instance.stop()"
   ]
  }
 ],
 "metadata": {
  "kernelspec": {
   "display_name": "Python 3 (ipykernel)",
   "language": "python",
   "name": "python3"
  },
  "language_info": {
   "codemirror_mode": {
    "name": "ipython",
    "version": 3
   },
   "file_extension": ".py",
   "mimetype": "text/x-python",
   "name": "python",
   "nbconvert_exporter": "python",
   "pygments_lexer": "ipython3",
   "version": "3.9.12"
  }
 },
 "nbformat": 4,
 "nbformat_minor": 5
}
