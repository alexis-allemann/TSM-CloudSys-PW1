{
 "cells": [
  {
   "cell_type": "markdown",
   "source": [
    "# Google Engine Deployment Script"
   ],
   "metadata": {
    "collapsed": false
   }
  },
  {
   "cell_type": "code",
   "execution_count": null,
   "outputs": [],
   "source": [
    "!pip3 install google\n",
    "!pip3 install google.cloud\n",
    "!pip3 install google.api_core\n",
    "!pip3 install google-cloud-tasks\n",
    "!pip3 install grpcio\n",
    "!pip3 install google-cloud-compute"
   ],
   "metadata": {
    "collapsed": false
   }
  },
  {
   "cell_type": "code",
   "execution_count": null,
   "outputs": [],
   "source": [
    "script = f\"\"\"#!/bin/bash\n",
    "rm -rf TSM_CloudSys_back_pw1\n",
    "git clone git@github.com:EricB2A/TSM_CloudSys_back_pw1.git\n",
    "cd TSM_CloudSys_back_pw1\n",
    "git checkout google\n",
    "bundle install\n",
    "RAILS_ENV=production bundle exec rake db:create db:migrate db:seed\n",
    "rails s -e production -d\n",
    "\"\"\""
   ],
   "metadata": {
    "collapsed": false
   }
  },
  {
   "cell_type": "markdown",
   "source": [
    "## Commands"
   ],
   "metadata": {
    "collapsed": false
   }
  },
  {
   "cell_type": "code",
   "execution_count": 22,
   "outputs": [],
   "source": [
    "# [START compute_instances_create]\n",
    "import re\n",
    "import sys\n",
    "from typing import Any, List\n",
    "import warnings\n",
    "\n",
    "from google.api_core.extended_operation import ExtendedOperation\n",
    "from google.cloud import compute_v1\n",
    "\n",
    "\n",
    "def get_image_from_family(project: str, family: str) -> compute_v1.Image:\n",
    "    \"\"\"\n",
    "    Retrieve the newest image that is part of a given family in a project.\n",
    "    Args:\n",
    "        project: project ID or project number of the Cloud project you want to get image from.\n",
    "        family: name of the image family you want to get image from.\n",
    "    Returns:\n",
    "        An Image object.\n",
    "    \"\"\"\n",
    "    image_client = compute_v1.ImagesClient()\n",
    "    # List of public operating system (OS) images: https://cloud.google.com/compute/docs/images/os-details\n",
    "    newest_image = image_client.get_from_family(project=project, family=family)\n",
    "    return newest_image\n",
    "\n",
    "\n",
    "def disk_from_image(\n",
    "        disk_type: str,\n",
    "        disk_size_gb: int,\n",
    "        boot: bool,\n",
    "        source_image: str,\n",
    "        auto_delete: bool = True,\n",
    ") -> compute_v1.AttachedDisk:\n",
    "    \"\"\"\n",
    "    Create an AttachedDisk object to be used in VM instance creation. Uses an image as the\n",
    "    source for the new disk.\n",
    "    Args:\n",
    "         disk_type: the type of disk you want to create. This value uses the following format:\n",
    "            \"zones/{zone}/diskTypes/(pd-standard|pd-ssd|pd-balanced|pd-extreme)\".\n",
    "            For example: \"zones/us-west3-b/diskTypes/pd-ssd\"\n",
    "        disk_size_gb: size of the new disk in gigabytes\n",
    "        boot: boolean flag indicating whether this disk should be used as a boot disk of an instance\n",
    "        source_image: source image to use when creating this disk. You must have read access to this disk. This can be one\n",
    "            of the publicly available images or an image from one of your projects.\n",
    "            This value uses the following format: \"projects/{project_name}/global/images/{image_name}\"\n",
    "        auto_delete: boolean flag indicating whether this disk should be deleted with the VM that uses it\n",
    "    Returns:\n",
    "        AttachedDisk object configured to be created using the specified image.\n",
    "    \"\"\"\n",
    "    boot_disk = compute_v1.AttachedDisk()\n",
    "    initialize_params = compute_v1.AttachedDiskInitializeParams()\n",
    "    initialize_params.source_image = source_image\n",
    "    initialize_params.disk_size_gb = disk_size_gb\n",
    "    initialize_params.disk_type = disk_type\n",
    "    boot_disk.initialize_params = initialize_params\n",
    "    # Remember to set auto_delete to True if you want the disk to be deleted when you delete\n",
    "    # your VM instance.\n",
    "    boot_disk.auto_delete = auto_delete\n",
    "    boot_disk.boot = boot\n",
    "    return boot_disk\n",
    "\n",
    "\n",
    "def wait_for_extended_operation(\n",
    "        operation: ExtendedOperation, verbose_name: str = \"operation\", timeout: int = 300\n",
    ") -> Any:\n",
    "    \"\"\"\n",
    "    This method will wait for the extended (long-running) operation to\n",
    "    complete. If the operation is successful, it will return its result.\n",
    "    If the operation ends with an error, an exception will be raised.\n",
    "    If there were any warnings during the execution of the operation\n",
    "    they will be printed to sys.stderr.\n",
    "    Args:\n",
    "        operation: a long-running operation you want to wait on.\n",
    "        verbose_name: (optional) a more verbose name of the operation,\n",
    "            used only during error and warning reporting.\n",
    "        timeout: how long (in seconds) to wait for operation to finish.\n",
    "            If None, wait indefinitely.\n",
    "    Returns:\n",
    "        Whatever the operation.result() returns.\n",
    "    Raises:\n",
    "        This method will raise the exception received from `operation.exception()`\n",
    "        or RuntimeError if there is no exception set, but there is an `error_code`\n",
    "        set for the `operation`.\n",
    "        In case of an operation taking longer than `timeout` seconds to complete,\n",
    "        a `concurrent.futures.TimeoutError` will be raised.\n",
    "    \"\"\"\n",
    "    result = operation.result(timeout=timeout)\n",
    "\n",
    "    if operation.error_code:\n",
    "        print(\n",
    "            f\"Error during {verbose_name}: [Code: {operation.error_code}]: {operation.error_message}\",\n",
    "            file=sys.stderr,\n",
    "            flush=True,\n",
    "        )\n",
    "        print(f\"Operation ID: {operation.name}\", file=sys.stderr, flush=True)\n",
    "        raise operation.exception() or RuntimeError(operation.error_message)\n",
    "\n",
    "    if operation.warnings:\n",
    "        print(f\"Warnings during {verbose_name}:\\n\", file=sys.stderr, flush=True)\n",
    "        for warning in operation.warnings:\n",
    "            print(f\" - {warning.code}: {warning.message}\", file=sys.stderr, flush=True)\n",
    "\n",
    "    return result\n",
    "\n",
    "\n",
    "def create_instance(\n",
    "        project_id: str,\n",
    "        zone: str,\n",
    "        instance_name: str,\n",
    "        disks: List[compute_v1.AttachedDisk],\n",
    "        machine_type: str = \"n1-standard-1\",\n",
    "        network_link: str = \"global/networks/default\",\n",
    "        subnetwork_link: str = None,\n",
    "        internal_ip: str = None,\n",
    "        external_access: bool = False,\n",
    "        external_ipv4: str = None,\n",
    "        accelerators: List[compute_v1.AcceleratorConfig] = None,\n",
    "        preemptible: bool = False,\n",
    "        spot: bool = False,\n",
    "        instance_termination_action: str = \"STOP\",\n",
    "        custom_hostname: str = None,\n",
    "        delete_protection: bool = False,\n",
    ") -> compute_v1.Instance:\n",
    "    \"\"\"\n",
    "    Send an instance creation request to the Compute Engine API and wait for it to complete.\n",
    "    Args:\n",
    "        project_id: project ID or project number of the Cloud project you want to use.\n",
    "        zone: name of the zone to create the instance in. For example: \"us-west3-b\"\n",
    "        instance_name: name of the new virtual machine (VM) instance.\n",
    "        disks: a list of compute_v1.AttachedDisk objects describing the disks\n",
    "            you want to attach to your new instance.\n",
    "        machine_type: machine type of the VM being created. This value uses the\n",
    "            following format: \"zones/{zone}/machineTypes/{type_name}\".\n",
    "            For example: \"zones/europe-west3-c/machineTypes/f1-micro\"\n",
    "        network_link: name of the network you want the new instance to use.\n",
    "            For example: \"global/networks/default\" represents the network\n",
    "            named \"default\", which is created automatically for each project.\n",
    "        subnetwork_link: name of the subnetwork you want the new instance to use.\n",
    "            This value uses the following format:\n",
    "            \"regions/{region}/subnetworks/{subnetwork_name}\"\n",
    "        internal_ip: internal IP address you want to assign to the new instance.\n",
    "            By default, a free address from the pool of available internal IP addresses of\n",
    "            used subnet will be used.\n",
    "        external_access: boolean flag indicating if the instance should have an external IPv4\n",
    "            address assigned.\n",
    "        external_ipv4: external IPv4 address to be assigned to this instance. If you specify\n",
    "            an external IP address, it must live in the same region as the zone of the instance.\n",
    "            This setting requires `external_access` to be set to True to work.\n",
    "        accelerators: a list of AcceleratorConfig objects describing the accelerators that will\n",
    "            be attached to the new instance.\n",
    "        preemptible: boolean value indicating if the new instance should be preemptible\n",
    "            or not. Preemptible VMs have been deprecated and you should now use Spot VMs.\n",
    "        spot: boolean value indicating if the new instance should be a Spot VM or not.\n",
    "        instance_termination_action: What action should be taken once a Spot VM is terminated.\n",
    "            Possible values: \"STOP\", \"DELETE\"\n",
    "        custom_hostname: Custom hostname of the new VM instance.\n",
    "            Custom hostnames must conform to RFC 1035 requirements for valid hostnames.\n",
    "        delete_protection: boolean value indicating if the new virtual machine should be\n",
    "            protected against deletion or not.\n",
    "    Returns:\n",
    "        Instance object.\n",
    "    \"\"\"\n",
    "    instance_client = compute_v1.InstancesClient()\n",
    "\n",
    "    # Use the network interface provided in the network_link argument.\n",
    "    network_interface = compute_v1.NetworkInterface()\n",
    "    network_interface.name = network_link\n",
    "    if subnetwork_link:\n",
    "        network_interface.subnetwork = subnetwork_link\n",
    "\n",
    "    if internal_ip:\n",
    "        network_interface.network_i_p = internal_ip\n",
    "\n",
    "    if external_access:\n",
    "        access = compute_v1.AccessConfig()\n",
    "        access.type_ = compute_v1.AccessConfig.Type.ONE_TO_ONE_NAT.name\n",
    "        access.name = \"External NAT\"\n",
    "        access.network_tier = access.NetworkTier.PREMIUM.name\n",
    "        if external_ipv4:\n",
    "            access.nat_i_p = external_ipv4\n",
    "        network_interface.access_configs = [access]\n",
    "\n",
    "    # Collect information into the Instance object.\n",
    "    instance = compute_v1.Instance()\n",
    "    instance.network_interfaces = [network_interface]\n",
    "    instance.name = instance_name\n",
    "    instance.disks = disks\n",
    "    if re.match(r\"^zones/[a-z\\d\\-]+/machineTypes/[a-z\\d\\-]+$\", machine_type):\n",
    "        instance.machine_type = machine_type\n",
    "    else:\n",
    "        instance.machine_type = f\"zones/{zone}/machineTypes/{machine_type}\"\n",
    "\n",
    "    if accelerators:\n",
    "        instance.guest_accelerators = accelerators\n",
    "\n",
    "    if preemptible:\n",
    "        # Set the preemptible setting\n",
    "        warnings.warn(\n",
    "            \"Preemptible VMs are being replaced by Spot VMs.\", DeprecationWarning\n",
    "        )\n",
    "        instance.scheduling = compute_v1.Scheduling()\n",
    "        instance.scheduling.preemptible = True\n",
    "\n",
    "    if spot:\n",
    "        # Set the Spot VM setting\n",
    "        instance.scheduling = compute_v1.Scheduling()\n",
    "        instance.scheduling.provisioning_model = (\n",
    "            compute_v1.Scheduling.ProvisioningModel.SPOT.name\n",
    "        )\n",
    "        instance.scheduling.instance_termination_action = instance_termination_action\n",
    "\n",
    "    if custom_hostname is not None:\n",
    "        # Set the custom hostname for the instance\n",
    "        instance.hostname = custom_hostname\n",
    "\n",
    "    if delete_protection:\n",
    "        # Set the delete protection bit\n",
    "        instance.deletion_protection = True\n",
    "\n",
    "    # Prepare the request to insert an instance.\n",
    "    request = compute_v1.InsertInstanceRequest()\n",
    "    request.zone = zone\n",
    "    request.project = project_id\n",
    "    request.instance_resource = instance\n",
    "\n",
    "    # Wait for the create operation to complete.\n",
    "    print(f\"Creating the {instance_name} instance in {zone}...\")\n",
    "\n",
    "    operation = instance_client.insert(request=request)\n",
    "\n",
    "    wait_for_extended_operation(operation, \"instance creation\")\n",
    "\n",
    "    print(f\"Instance {instance_name} created.\")\n",
    "    return instance_client.get(project=project_id, zone=zone, instance=instance_name)\n",
    "\n",
    "\n",
    "# [END compute_instances_create]"
   ],
   "metadata": {
    "collapsed": false
   }
  },
  {
   "cell_type": "code",
   "execution_count": 23,
   "outputs": [
    {
     "name": "stdout",
     "output_type": "stream",
     "text": [
      "zsh:1: command not found: gcloud\r\n"
     ]
    }
   ],
   "source": [
    "!gcloud auth application-default login"
   ],
   "metadata": {
    "collapsed": false
   }
  },
  {
   "cell_type": "markdown",
   "source": [
    "## Backend creation"
   ],
   "metadata": {
    "collapsed": false
   }
  },
  {
   "cell_type": "code",
   "execution_count": 24,
   "outputs": [
    {
     "name": "stdout",
     "output_type": "stream",
     "text": [
      "None\n",
      "Creating the back-9dc256b022 instance in europe-west6...\n"
     ]
    },
    {
     "ename": "ValueError",
     "evalue": "Invalid request.\nSome of the fields of the request message are either not initialized or initialized with an invalid value.\nPlease make sure your request matches at least one accepted HTTP binding.\nTo match a binding the request message must have all the required fields initialized with values matching their patterns as listed below:\n\tURI: \"/compute/v1/projects/{project}/zones/{zone}/instances\"\n\tRequired request fields:\n\t\tfield: \"project\", pattern: \"*\"\n\t\tfield: \"zone\", pattern: \"*\"",
     "output_type": "error",
     "traceback": [
      "\u001B[0;31m---------------------------------------------------------------------------\u001B[0m",
      "\u001B[0;31mValueError\u001B[0m                                Traceback (most recent call last)",
      "Input \u001B[0;32mIn [24]\u001B[0m, in \u001B[0;36m<cell line: 5>\u001B[0;34m()\u001B[0m\n\u001B[1;32m     20\u001B[0m disks \u001B[38;5;241m=\u001B[39m [disk_from_image(disk_type, \u001B[38;5;241m10\u001B[39m, \u001B[38;5;28;01mTrue\u001B[39;00m, newest_debian\u001B[38;5;241m.\u001B[39mself_link)]\n\u001B[1;32m     21\u001B[0m \u001B[38;5;28mprint\u001B[39m(default_project_id)\n\u001B[0;32m---> 22\u001B[0m \u001B[43mcreate_instance\u001B[49m\u001B[43m(\u001B[49m\u001B[43mdefault_project_id\u001B[49m\u001B[43m,\u001B[49m\u001B[43m \u001B[49m\u001B[43minstance_zone\u001B[49m\u001B[43m,\u001B[49m\u001B[43m \u001B[49m\u001B[43minstance_name\u001B[49m\u001B[43m,\u001B[49m\u001B[43m \u001B[49m\u001B[43mdisks\u001B[49m\u001B[43m)\u001B[49m\n",
      "Input \u001B[0;32mIn [22]\u001B[0m, in \u001B[0;36mcreate_instance\u001B[0;34m(project_id, zone, instance_name, disks, machine_type, network_link, subnetwork_link, internal_ip, external_access, external_ipv4, accelerators, preemptible, spot, instance_termination_action, custom_hostname, delete_protection)\u001B[0m\n\u001B[1;32m    225\u001B[0m \u001B[38;5;66;03m# Wait for the create operation to complete.\u001B[39;00m\n\u001B[1;32m    226\u001B[0m \u001B[38;5;28mprint\u001B[39m(\u001B[38;5;124mf\u001B[39m\u001B[38;5;124m\"\u001B[39m\u001B[38;5;124mCreating the \u001B[39m\u001B[38;5;132;01m{\u001B[39;00minstance_name\u001B[38;5;132;01m}\u001B[39;00m\u001B[38;5;124m instance in \u001B[39m\u001B[38;5;132;01m{\u001B[39;00mzone\u001B[38;5;132;01m}\u001B[39;00m\u001B[38;5;124m...\u001B[39m\u001B[38;5;124m\"\u001B[39m)\n\u001B[0;32m--> 228\u001B[0m operation \u001B[38;5;241m=\u001B[39m \u001B[43minstance_client\u001B[49m\u001B[38;5;241;43m.\u001B[39;49m\u001B[43minsert\u001B[49m\u001B[43m(\u001B[49m\u001B[43mrequest\u001B[49m\u001B[38;5;241;43m=\u001B[39;49m\u001B[43mrequest\u001B[49m\u001B[43m)\u001B[49m\n\u001B[1;32m    230\u001B[0m wait_for_extended_operation(operation, \u001B[38;5;124m\"\u001B[39m\u001B[38;5;124minstance creation\u001B[39m\u001B[38;5;124m\"\u001B[39m)\n\u001B[1;32m    232\u001B[0m \u001B[38;5;28mprint\u001B[39m(\u001B[38;5;124mf\u001B[39m\u001B[38;5;124m\"\u001B[39m\u001B[38;5;124mInstance \u001B[39m\u001B[38;5;132;01m{\u001B[39;00minstance_name\u001B[38;5;132;01m}\u001B[39;00m\u001B[38;5;124m created.\u001B[39m\u001B[38;5;124m\"\u001B[39m)\n",
      "File \u001B[0;32m~/miniconda3/lib/python3.9/site-packages/google/cloud/compute_v1/services/instances/client.py:3177\u001B[0m, in \u001B[0;36mInstancesClient.insert\u001B[0;34m(self, request, project, zone, instance_resource, retry, timeout, metadata)\u001B[0m\n\u001B[1;32m   3167\u001B[0m metadata \u001B[38;5;241m=\u001B[39m \u001B[38;5;28mtuple\u001B[39m(metadata) \u001B[38;5;241m+\u001B[39m (\n\u001B[1;32m   3168\u001B[0m     gapic_v1\u001B[38;5;241m.\u001B[39mrouting_header\u001B[38;5;241m.\u001B[39mto_grpc_metadata(\n\u001B[1;32m   3169\u001B[0m         (\n\u001B[0;32m   (...)\u001B[0m\n\u001B[1;32m   3173\u001B[0m     ),\n\u001B[1;32m   3174\u001B[0m )\n\u001B[1;32m   3176\u001B[0m \u001B[38;5;66;03m# Send the request.\u001B[39;00m\n\u001B[0;32m-> 3177\u001B[0m response \u001B[38;5;241m=\u001B[39m \u001B[43mrpc\u001B[49m\u001B[43m(\u001B[49m\n\u001B[1;32m   3178\u001B[0m \u001B[43m    \u001B[49m\u001B[43mrequest\u001B[49m\u001B[43m,\u001B[49m\n\u001B[1;32m   3179\u001B[0m \u001B[43m    \u001B[49m\u001B[43mretry\u001B[49m\u001B[38;5;241;43m=\u001B[39;49m\u001B[43mretry\u001B[49m\u001B[43m,\u001B[49m\n\u001B[1;32m   3180\u001B[0m \u001B[43m    \u001B[49m\u001B[43mtimeout\u001B[49m\u001B[38;5;241;43m=\u001B[39;49m\u001B[43mtimeout\u001B[49m\u001B[43m,\u001B[49m\n\u001B[1;32m   3181\u001B[0m \u001B[43m    \u001B[49m\u001B[43mmetadata\u001B[49m\u001B[38;5;241;43m=\u001B[39;49m\u001B[43mmetadata\u001B[49m\u001B[43m,\u001B[49m\n\u001B[1;32m   3182\u001B[0m \u001B[43m\u001B[49m\u001B[43m)\u001B[49m\n\u001B[1;32m   3184\u001B[0m operation_service \u001B[38;5;241m=\u001B[39m \u001B[38;5;28mself\u001B[39m\u001B[38;5;241m.\u001B[39m_transport\u001B[38;5;241m.\u001B[39m_zone_operations_client\n\u001B[1;32m   3185\u001B[0m operation_request \u001B[38;5;241m=\u001B[39m compute\u001B[38;5;241m.\u001B[39mGetZoneOperationRequest()\n",
      "File \u001B[0;32m~/miniconda3/lib/python3.9/site-packages/google/api_core/gapic_v1/method.py:154\u001B[0m, in \u001B[0;36m_GapicCallable.__call__\u001B[0;34m(self, timeout, retry, *args, **kwargs)\u001B[0m\n\u001B[1;32m    151\u001B[0m     metadata\u001B[38;5;241m.\u001B[39mextend(\u001B[38;5;28mself\u001B[39m\u001B[38;5;241m.\u001B[39m_metadata)\n\u001B[1;32m    152\u001B[0m     kwargs[\u001B[38;5;124m\"\u001B[39m\u001B[38;5;124mmetadata\u001B[39m\u001B[38;5;124m\"\u001B[39m] \u001B[38;5;241m=\u001B[39m metadata\n\u001B[0;32m--> 154\u001B[0m \u001B[38;5;28;01mreturn\u001B[39;00m \u001B[43mwrapped_func\u001B[49m\u001B[43m(\u001B[49m\u001B[38;5;241;43m*\u001B[39;49m\u001B[43margs\u001B[49m\u001B[43m,\u001B[49m\u001B[43m \u001B[49m\u001B[38;5;241;43m*\u001B[39;49m\u001B[38;5;241;43m*\u001B[39;49m\u001B[43mkwargs\u001B[49m\u001B[43m)\u001B[49m\n",
      "File \u001B[0;32m~/miniconda3/lib/python3.9/site-packages/google/api_core/grpc_helpers.py:72\u001B[0m, in \u001B[0;36m_wrap_unary_errors.<locals>.error_remapped_callable\u001B[0;34m(*args, **kwargs)\u001B[0m\n\u001B[1;32m     69\u001B[0m \u001B[38;5;129m@functools\u001B[39m\u001B[38;5;241m.\u001B[39mwraps(callable_)\n\u001B[1;32m     70\u001B[0m \u001B[38;5;28;01mdef\u001B[39;00m \u001B[38;5;21merror_remapped_callable\u001B[39m(\u001B[38;5;241m*\u001B[39margs, \u001B[38;5;241m*\u001B[39m\u001B[38;5;241m*\u001B[39mkwargs):\n\u001B[1;32m     71\u001B[0m     \u001B[38;5;28;01mtry\u001B[39;00m:\n\u001B[0;32m---> 72\u001B[0m         \u001B[38;5;28;01mreturn\u001B[39;00m \u001B[43mcallable_\u001B[49m\u001B[43m(\u001B[49m\u001B[38;5;241;43m*\u001B[39;49m\u001B[43margs\u001B[49m\u001B[43m,\u001B[49m\u001B[43m \u001B[49m\u001B[38;5;241;43m*\u001B[39;49m\u001B[38;5;241;43m*\u001B[39;49m\u001B[43mkwargs\u001B[49m\u001B[43m)\u001B[49m\n\u001B[1;32m     73\u001B[0m     \u001B[38;5;28;01mexcept\u001B[39;00m grpc\u001B[38;5;241m.\u001B[39mRpcError \u001B[38;5;28;01mas\u001B[39;00m exc:\n\u001B[1;32m     74\u001B[0m         \u001B[38;5;28;01mraise\u001B[39;00m exceptions\u001B[38;5;241m.\u001B[39mfrom_grpc_error(exc) \u001B[38;5;28;01mfrom\u001B[39;00m \u001B[38;5;21;01mexc\u001B[39;00m\n",
      "File \u001B[0;32m~/miniconda3/lib/python3.9/site-packages/google/cloud/compute_v1/services/instances/transports/rest.py:3072\u001B[0m, in \u001B[0;36mInstancesRestTransport._Insert.__call__\u001B[0;34m(self, request, retry, timeout, metadata)\u001B[0m\n\u001B[1;32m   3070\u001B[0m request, metadata \u001B[38;5;241m=\u001B[39m \u001B[38;5;28mself\u001B[39m\u001B[38;5;241m.\u001B[39m_interceptor\u001B[38;5;241m.\u001B[39mpre_insert(request, metadata)\n\u001B[1;32m   3071\u001B[0m pb_request \u001B[38;5;241m=\u001B[39m compute\u001B[38;5;241m.\u001B[39mInsertInstanceRequest\u001B[38;5;241m.\u001B[39mpb(request)\n\u001B[0;32m-> 3072\u001B[0m transcoded_request \u001B[38;5;241m=\u001B[39m \u001B[43mpath_template\u001B[49m\u001B[38;5;241;43m.\u001B[39;49m\u001B[43mtranscode\u001B[49m\u001B[43m(\u001B[49m\u001B[43mhttp_options\u001B[49m\u001B[43m,\u001B[49m\u001B[43m \u001B[49m\u001B[43mpb_request\u001B[49m\u001B[43m)\u001B[49m\n\u001B[1;32m   3074\u001B[0m \u001B[38;5;66;03m# Jsonify the request body\u001B[39;00m\n\u001B[1;32m   3076\u001B[0m body \u001B[38;5;241m=\u001B[39m json_format\u001B[38;5;241m.\u001B[39mMessageToJson(\n\u001B[1;32m   3077\u001B[0m     transcoded_request[\u001B[38;5;124m\"\u001B[39m\u001B[38;5;124mbody\u001B[39m\u001B[38;5;124m\"\u001B[39m],\n\u001B[1;32m   3078\u001B[0m     including_default_value_fields\u001B[38;5;241m=\u001B[39m\u001B[38;5;28;01mFalse\u001B[39;00m,\n\u001B[1;32m   3079\u001B[0m     use_integers_for_enums\u001B[38;5;241m=\u001B[39m\u001B[38;5;28;01mFalse\u001B[39;00m,\n\u001B[1;32m   3080\u001B[0m )\n",
      "File \u001B[0;32m~/miniconda3/lib/python3.9/site-packages/google/api_core/path_template.py:337\u001B[0m, in \u001B[0;36mtranscode\u001B[0;34m(http_options, message, **request_kwargs)\u001B[0m\n\u001B[1;32m    321\u001B[0m     \u001B[38;5;28;01mreturn\u001B[39;00m request\n\u001B[1;32m    323\u001B[0m bindings_description \u001B[38;5;241m=\u001B[39m [\n\u001B[1;32m    324\u001B[0m     \u001B[38;5;124m'\u001B[39m\u001B[38;5;130;01m\\n\u001B[39;00m\u001B[38;5;130;01m\\t\u001B[39;00m\u001B[38;5;124mURI: \u001B[39m\u001B[38;5;124m\"\u001B[39m\u001B[38;5;132;01m{}\u001B[39;00m\u001B[38;5;124m\"\u001B[39m\u001B[38;5;124m'\u001B[39m\n\u001B[1;32m    325\u001B[0m     \u001B[38;5;124m\"\u001B[39m\u001B[38;5;130;01m\\n\u001B[39;00m\u001B[38;5;130;01m\\t\u001B[39;00m\u001B[38;5;124mRequired request fields:\u001B[39m\u001B[38;5;130;01m\\n\u001B[39;00m\u001B[38;5;130;01m\\t\u001B[39;00m\u001B[38;5;130;01m\\t\u001B[39;00m\u001B[38;5;132;01m{}\u001B[39;00m\u001B[38;5;124m\"\u001B[39m\u001B[38;5;241m.\u001B[39mformat(\n\u001B[0;32m   (...)\u001B[0m\n\u001B[1;32m    334\u001B[0m     \u001B[38;5;28;01mfor\u001B[39;00m uri, fields \u001B[38;5;129;01min\u001B[39;00m bindings\n\u001B[1;32m    335\u001B[0m ]\n\u001B[0;32m--> 337\u001B[0m \u001B[38;5;28;01mraise\u001B[39;00m \u001B[38;5;167;01mValueError\u001B[39;00m(\n\u001B[1;32m    338\u001B[0m     \u001B[38;5;124m\"\u001B[39m\u001B[38;5;124mInvalid request.\u001B[39m\u001B[38;5;124m\"\u001B[39m\n\u001B[1;32m    339\u001B[0m     \u001B[38;5;124m\"\u001B[39m\u001B[38;5;130;01m\\n\u001B[39;00m\u001B[38;5;124mSome of the fields of the request message are either not initialized or \u001B[39m\u001B[38;5;124m\"\u001B[39m\n\u001B[1;32m    340\u001B[0m     \u001B[38;5;124m\"\u001B[39m\u001B[38;5;124minitialized with an invalid value.\u001B[39m\u001B[38;5;124m\"\u001B[39m\n\u001B[1;32m    341\u001B[0m     \u001B[38;5;124m\"\u001B[39m\u001B[38;5;130;01m\\n\u001B[39;00m\u001B[38;5;124mPlease make sure your request matches at least one accepted HTTP binding.\u001B[39m\u001B[38;5;124m\"\u001B[39m\n\u001B[1;32m    342\u001B[0m     \u001B[38;5;124m\"\u001B[39m\u001B[38;5;130;01m\\n\u001B[39;00m\u001B[38;5;124mTo match a binding the request message must have all the required fields \u001B[39m\u001B[38;5;124m\"\u001B[39m\n\u001B[1;32m    343\u001B[0m     \u001B[38;5;124m\"\u001B[39m\u001B[38;5;124minitialized with values matching their patterns as listed below:\u001B[39m\u001B[38;5;132;01m{}\u001B[39;00m\u001B[38;5;124m\"\u001B[39m\u001B[38;5;241m.\u001B[39mformat(\n\u001B[1;32m    344\u001B[0m         \u001B[38;5;124m\"\u001B[39m\u001B[38;5;130;01m\\n\u001B[39;00m\u001B[38;5;124m\"\u001B[39m\u001B[38;5;241m.\u001B[39mjoin(bindings_description)\n\u001B[1;32m    345\u001B[0m     )\n\u001B[1;32m    346\u001B[0m )\n",
      "\u001B[0;31mValueError\u001B[0m: Invalid request.\nSome of the fields of the request message are either not initialized or initialized with an invalid value.\nPlease make sure your request matches at least one accepted HTTP binding.\nTo match a binding the request message must have all the required fields initialized with values matching their patterns as listed below:\n\tURI: \"/compute/v1/projects/{project}/zones/{zone}/instances\"\n\tRequired request fields:\n\t\tfield: \"project\", pattern: \"*\"\n\t\tfield: \"zone\", pattern: \"*\""
     ]
    }
   ],
   "source": [
    "import uuid\n",
    "import google.auth\n",
    "import google.auth.exceptions\n",
    "\n",
    "try:\n",
    "    default_project_id = google.auth.default()[1]\n",
    "except google.auth.exceptions.DefaultCredentialsError:\n",
    "    print(\n",
    "        \"Please use `gcloud auth application-default login` \"\n",
    "        \"or set GOOGLE_APPLICATION_CREDENTIALS to use this script.\"\n",
    "    )\n",
    "else:\n",
    "    instance_name = \"back-\" + uuid.uuid4().hex[:10]\n",
    "    instance_zone = \"europe-west6\"\n",
    "\n",
    "    newest_debian = get_image_from_family(\n",
    "        project=\"cloudsys-pw1\", family=\"image-back\"\n",
    "    )\n",
    "    disk_type = f\"zones/{instance_zone}/diskTypes/pd-standard\"\n",
    "    disks = [disk_from_image(disk_type, 10, True, newest_debian.self_link)]\n",
    "    print(default_project_id)\n",
    "    create_instance(default_project_id, instance_zone, instance_name, disks)"
   ],
   "metadata": {
    "collapsed": false
   }
  },
  {
   "cell_type": "markdown",
   "source": [
    "## Frontend creation"
   ],
   "metadata": {
    "collapsed": false
   }
  },
  {
   "cell_type": "code",
   "execution_count": null,
   "outputs": [],
   "source": [],
   "metadata": {
    "collapsed": false
   }
  }
 ],
 "metadata": {
  "kernelspec": {
   "display_name": "Python 3",
   "language": "python",
   "name": "python3"
  },
  "language_info": {
   "codemirror_mode": {
    "name": "ipython",
    "version": 2
   },
   "file_extension": ".py",
   "mimetype": "text/x-python",
   "name": "python",
   "nbconvert_exporter": "python",
   "pygments_lexer": "ipython2",
   "version": "2.7.6"
  }
 },
 "nbformat": 4,
 "nbformat_minor": 0
}
